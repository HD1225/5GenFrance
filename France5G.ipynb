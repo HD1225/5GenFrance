{
 "cells": [
  {
   "cell_type": "code",
   "execution_count": 1,
   "id": "4be89095",
   "metadata": {},
   "outputs": [
    {
     "data": {
      "text/plain": [
       "{'Free Mobile': 129, 'Bouygues Telecom': 16, 'SFR': 8}"
      ]
     },
     "execution_count": 1,
     "metadata": {},
     "output_type": "execute_result"
    }
   ],
   "source": [
    "import pandas as pd\n",
    "df = pd.read_csv(r\"5G.csv\")\n",
    "c = dict(list(df.groupby(['nom_commune_insee'])))\n",
    "nom_operateur = list(c['Paris'].drop_duplicates('nom_operateur')['nom_operateur'])\n",
    "code_commune_insee = list(c['Paris'].drop_duplicates('code_commune_insee')['code_commune_insee'])[0]\n",
    "c = dict(list(df.groupby(['nom_departement_insee'])))\n",
    "d = dict(c['Ain']['nom_operateur'].value_counts())\n",
    "d"
   ]
  },
  {
   "cell_type": "code",
   "execution_count": 1,
   "id": "4e6f134a",
   "metadata": {},
   "outputs": [
    {
     "data": {
      "text/plain": [
       "'/Users/sail/Desktop/France/Work/1.html'"
      ]
     },
     "execution_count": 1,
     "metadata": {},
     "output_type": "execute_result"
    }
   ],
   "source": [
    "import json\n",
    "import pandas as pd\n",
    "df = pd.read_csv(r\"5G.csv\")\n",
    "c = dict(list(df.groupby(['nom_departement_insee'])))\n",
    "res = []\n",
    "for key,value in c.items(): \n",
    "    nom_operateur = eval(str(dict(value['nom_operateur'].value_counts())))\n",
    "    res.append([key,len(nom_operateur.keys())])\n",
    "\n",
    "from pyecharts.charts import Map\n",
    "import pyecharts.options as opts\n",
    "json_data = {}\n",
    "with open('./src/assets/departements.json', 'r', encoding='utf-8') as f:    \n",
    "    json_data = f.read()\n",
    "data_pair = res\n",
    "m = (Map(init_opts=opts.InitOpts(width='1000px', height='700px'))\n",
    "        .add_js_funcs(\"echarts.registerMap('FranceDep',{});\".format(json.loads(json_data)))\n",
    "        .add(series_name=\"France5G\", data_pair=data_pair,name_property=\"nom\", maptype=\"FranceDep\",label_opts=opts.LabelOpts(is_show=False),is_map_symbol_show=False)\n",
    "        .set_global_opts(title_opts=opts.TitleOpts(title=\"France5G\"),\n",
    "            visualmap_opts=opts.VisualMapOpts(\n",
    "                min_=0, max_=4, \n",
    "                range_color=['#b0c7e0','#77a0e0','#105cd6']\n",
    "                )\n",
    "            )\n",
    "        )\n",
    "m.render(path='1.html')"
   ]
  },
  {
   "cell_type": "code",
   "execution_count": null,
   "id": "a1a06958",
   "metadata": {},
   "outputs": [],
   "source": [
    "m.render_notebook()"
   ]
  },
  {
   "cell_type": "markdown",
   "id": "bfa5e758",
   "metadata": {},
   "source": [
    "## 城市/省份5G数据"
   ]
  },
  {
   "cell_type": "code",
   "execution_count": 2,
   "id": "0f6c0362",
   "metadata": {},
   "outputs": [],
   "source": [
    "import json\n",
    "import pandas as pd\n",
    "df = pd.read_csv(r\"5G.csv\")\n",
    "\n",
    "def dep5gop(data):\n",
    "    dic = {}\n",
    "    res = []\n",
    "    index = 0\n",
    "    c = dict(list(df.groupby(['nom_departement_insee'])))\n",
    "    for key,value in c.items(): \n",
    "        nom_operateur = eval(str(dict(value['nom_operateur'].value_counts())))\n",
    "        res.append({\n",
    "            'name':key,\n",
    "            'value':len(nom_operateur.keys()),\n",
    "            'nom_operateur':nom_operateur,\n",
    "        })\n",
    "        dic[key]=index\n",
    "        index += 1\n",
    "    return res,dic\n",
    "\n",
    "\n",
    "li,dic = dep5gop(df)\n",
    "r = {'li':li,'map':dic}\n",
    "'''\n",
    "省份5G数据 {\n",
    "  \"li\":[{\n",
    "    \"name\":\"省份名称\",\n",
    "    \"value\":\"运营商数量\",\n",
    "    \"nom_operateur\": {\"Free Mobile\": 129, \"Bouygues Telecom\": 16, \"SFR\": 8}\n",
    "    },...],\n",
    "  \"map\": {\"Ain\": 0,...}\n",
    "}\n",
    "'''\n",
    "with open('./src/assets/dep5gop.json','w') as file:\n",
    "    json.dump(r,file)"
   ]
  },
  {
   "cell_type": "code",
   "execution_count": 3,
   "id": "2234564f",
   "metadata": {},
   "outputs": [],
   "source": [
    "import json\n",
    "import pandas as pd\n",
    "df = pd.read_csv(r\"5G.csv\")\n",
    "\n",
    "def city5gop(data):\n",
    "    dic = {}\n",
    "    res = []\n",
    "    index = 0\n",
    "    c = dict(list(df.groupby(['nom_commune_insee'])))\n",
    "    for key,value in c.items(): \n",
    "        nom_operateur = eval(str(dict(value['nom_operateur'].value_counts())))\n",
    "        code_commune_insee = list(value.drop_duplicates('code_commune_insee')['code_commune_insee'])[0]\n",
    "        res.append({\n",
    "            'name':key,\n",
    "            'value':len(nom_operateur.keys()),\n",
    "            'nom_operateur':nom_operateur,\n",
    "            'code_commune_insee':code_commune_insee\n",
    "        })\n",
    "        dic[key]=index\n",
    "        index += 1\n",
    "    return res,dic\n",
    "\n",
    "\n",
    "li,dic = city5gop(df)\n",
    "with open('./src/assets/city5gop.json','w') as file:\n",
    "    json.dump({'li':li,'map':dic},file)"
   ]
  },
  {
   "cell_type": "markdown",
   "id": "af345668",
   "metadata": {},
   "source": [
    "## 城市/省份运营商数据"
   ]
  },
  {
   "cell_type": "code",
   "execution_count": 4,
   "id": "7e834f95",
   "metadata": {},
   "outputs": [],
   "source": [
    "import json\n",
    "import pandas as pd\n",
    "df = pd.read_csv(r\"5G.csv\")\n",
    "\n",
    "def op5gdep(data):\n",
    "    dic = {}\n",
    "    c = dict(list(df.groupby(['nom_operateur'])))\n",
    "    for key,value in c.items(): \n",
    "        nom_departement_insee = list(value.drop_duplicates('nom_departement_insee')['nom_departement_insee'])\n",
    "        dic[key]=nom_departement_insee\n",
    "    return dic\n",
    "\n",
    "\n",
    "dic = op5gdep(df)\n",
    "'''\n",
    "省份运营商数据{\n",
    "  \"Bouygues Telecom\":[\"Loire\",...],\n",
    "  \"Orange\":[\"..\",...],\n",
    "  \"Free\":[\"..\",...],\n",
    "  \"SFR\":[\"..\",...]\n",
    "}\n",
    "'''\n",
    "with open('./src/assets/op5gdep.json','w') as file:\n",
    "    json.dump(dic,file)"
   ]
  },
  {
   "cell_type": "code",
   "execution_count": 5,
   "id": "7ae43539",
   "metadata": {},
   "outputs": [],
   "source": [
    "import json\n",
    "import pandas as pd\n",
    "df = pd.read_csv(r\"5G.csv\")\n",
    "\n",
    "def op5gcity(data):\n",
    "    dic = {}\n",
    "    c = dict(list(df.groupby(['nom_operateur'])))\n",
    "    for key,value in c.items(): \n",
    "        nom_commune_insee = list(value.drop_duplicates('nom_commune_insee')['nom_commune_insee'])\n",
    "        dic[key]=nom_commune_insee\n",
    "    return dic\n",
    "\n",
    "\n",
    "dic = op5gcity(df)\n",
    "with open('./src/assets/op5gcity.json','w') as file:\n",
    "    json.dump(dic,file)"
   ]
  },
  {
   "cell_type": "markdown",
   "id": "cf3f0c11",
   "metadata": {},
   "source": [
    "## 城市/省份 名称数据"
   ]
  },
  {
   "cell_type": "code",
   "execution_count": 6,
   "id": "d5475b7c",
   "metadata": {},
   "outputs": [],
   "source": [
    "import json\n",
    "import pandas as pd\n",
    "df = pd.read_csv(r\"5G.csv\")\n",
    "\n",
    "with open('./src/assets/dep.json','w') as file:\n",
    "    json.dump(list(df.drop_duplicates('nom_departement_insee')['nom_departement_insee']),file)"
   ]
  },
  {
   "cell_type": "code",
   "execution_count": 7,
   "id": "77ce81d7",
   "metadata": {},
   "outputs": [],
   "source": [
    "import json\n",
    "import pandas as pd\n",
    "df = pd.read_csv(r\"5G.csv\")\n",
    "\n",
    "with open('./src/assets/city.json','w') as file:\n",
    "    json.dump(list(df.drop_duplicates('nom_commune_insee')['nom_commune_insee']),file)"
   ]
  }
 ],
 "metadata": {
  "kernelspec": {
   "display_name": "Python 3 (ipykernel)",
   "language": "python",
   "name": "python3"
  },
  "language_info": {
   "codemirror_mode": {
    "name": "ipython",
    "version": 3
   },
   "file_extension": ".py",
   "mimetype": "text/x-python",
   "name": "python",
   "nbconvert_exporter": "python",
   "pygments_lexer": "ipython3",
   "version": "3.10.0"
  }
 },
 "nbformat": 4,
 "nbformat_minor": 5
}
